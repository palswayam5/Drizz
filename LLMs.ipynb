{
 "cells": [
  {
   "cell_type": "code",
   "execution_count": null,
   "metadata": {},
   "outputs": [],
   "source": [
    "from PIL import Image\n",
    "from transformers import BlipProcessor, BlipForConditionalGeneration"
   ]
  },
  {
   "cell_type": "code",
   "execution_count": null,
   "metadata": {},
   "outputs": [],
   "source": [
    "processor = BlipProcessor.from_pretrained(\"Salesforce/blip2-flan-t5-xl\")\n",
    "model = BlipForConditionalGeneration.from_pretrained(\"Salesforce/blip2-flan-t5-xl\")"
   ]
  },
  {
   "cell_type": "code",
   "execution_count": null,
   "metadata": {},
   "outputs": [],
   "source": [
    "# Function to extract information from an image using BLIP-2\n",
    "def extract_from_image(image_path, prompt):\n",
    "    # Open the image\n",
    "    image = Image.open(image_path).convert(\"RGB\")\n",
    "    \n",
    "    # Prepare inputs for BLIP-2 (text prompt + image)\n",
    "    inputs = processor(images=image, text=prompt, return_tensors=\"pt\")\n",
    "\n",
    "    # Generate the response (we pass the text prompt and image to the model)\n",
    "    output = model.generate(**inputs)\n",
    "\n",
    "    # Decode the generated text\n",
    "    generated_text = processor.decode(output[0], skip_special_tokens=True)\n",
    "\n",
    "    return generated_text\n",
    "\n",
    "# Main function\n",
    "def main():\n",
    "    # Path to the image\n",
    "    image_path = \"zomato.png\"  # Replace with your image file path\n",
    "\n",
    "    # Prompt to extract text or information\n",
    "    prompt = \"What are the adb coordinates of the current location marked in the image?\"\n",
    "    \n",
    "    # Call the function to extract information\n",
    "    extracted_info = extract_from_image(image_path, prompt)\n",
    "    \n",
    "    # Output the result\n",
    "    print(\"Extracted Information:\", extracted_info)\n",
    "\n",
    "if __name__ == \"_main_\":\n",
    "    main()"
   ]
  },
  {
   "cell_type": "code",
   "execution_count": null,
   "metadata": {},
   "outputs": [],
   "source": []
  }
 ],
 "metadata": {
  "kernelspec": {
   "display_name": "Python 3",
   "language": "python",
   "name": "python3"
  },
  "language_info": {
   "codemirror_mode": {
    "name": "ipython",
    "version": 3
   },
   "file_extension": ".py",
   "mimetype": "text/x-python",
   "name": "python",
   "nbconvert_exporter": "python",
   "pygments_lexer": "ipython3",
   "version": "3.9.6"
  }
 },
 "nbformat": 4,
 "nbformat_minor": 2
}
