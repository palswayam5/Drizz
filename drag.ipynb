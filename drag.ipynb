{
 "cells": [
  {
   "cell_type": "code",
   "execution_count": 5,
   "metadata": {},
   "outputs": [
    {
     "name": "stdout",
     "output_type": "stream",
     "text": [
      "Defaulting to user installation because normal site-packages is not writeable\n",
      "Requirement already satisfied: Appium-Python-Client in /Users/palswayam5/Library/Python/3.9/lib/python/site-packages (4.2.0)\n",
      "Requirement already satisfied: selenium~=4.12 in /Users/palswayam5/Library/Python/3.9/lib/python/site-packages (from Appium-Python-Client) (4.25.0)\n",
      "Requirement already satisfied: urllib3<3,>=1.26 in /Users/palswayam5/Library/Python/3.9/lib/python/site-packages (from urllib3[socks]<3,>=1.26->selenium~=4.12->Appium-Python-Client) (2.2.1)\n",
      "Requirement already satisfied: trio~=0.17 in /Users/palswayam5/Library/Python/3.9/lib/python/site-packages (from selenium~=4.12->Appium-Python-Client) (0.26.2)\n",
      "Requirement already satisfied: trio-websocket~=0.9 in /Users/palswayam5/Library/Python/3.9/lib/python/site-packages (from selenium~=4.12->Appium-Python-Client) (0.11.1)\n",
      "Requirement already satisfied: certifi>=2021.10.8 in /Users/palswayam5/Library/Python/3.9/lib/python/site-packages (from selenium~=4.12->Appium-Python-Client) (2024.2.2)\n",
      "Requirement already satisfied: typing_extensions~=4.9 in /Users/palswayam5/Library/Python/3.9/lib/python/site-packages (from selenium~=4.12->Appium-Python-Client) (4.11.0)\n",
      "Requirement already satisfied: websocket-client~=1.8 in /Users/palswayam5/Library/Python/3.9/lib/python/site-packages (from selenium~=4.12->Appium-Python-Client) (1.8.0)\n",
      "Requirement already satisfied: attrs>=23.2.0 in /Users/palswayam5/Library/Python/3.9/lib/python/site-packages (from trio~=0.17->selenium~=4.12->Appium-Python-Client) (23.2.0)\n",
      "Requirement already satisfied: sortedcontainers in /Users/palswayam5/Library/Python/3.9/lib/python/site-packages (from trio~=0.17->selenium~=4.12->Appium-Python-Client) (2.4.0)\n",
      "Requirement already satisfied: idna in /Users/palswayam5/Library/Python/3.9/lib/python/site-packages (from trio~=0.17->selenium~=4.12->Appium-Python-Client) (3.7)\n",
      "Requirement already satisfied: outcome in /Users/palswayam5/Library/Python/3.9/lib/python/site-packages (from trio~=0.17->selenium~=4.12->Appium-Python-Client) (1.3.0.post0)\n",
      "Requirement already satisfied: sniffio>=1.3.0 in /Users/palswayam5/Library/Python/3.9/lib/python/site-packages (from trio~=0.17->selenium~=4.12->Appium-Python-Client) (1.3.1)\n",
      "Requirement already satisfied: exceptiongroup in /Users/palswayam5/Library/Python/3.9/lib/python/site-packages (from trio~=0.17->selenium~=4.12->Appium-Python-Client) (1.2.1)\n",
      "Requirement already satisfied: wsproto>=0.14 in /Users/palswayam5/Library/Python/3.9/lib/python/site-packages (from trio-websocket~=0.9->selenium~=4.12->Appium-Python-Client) (1.2.0)\n",
      "Requirement already satisfied: pysocks!=1.5.7,<2.0,>=1.5.6 in /Users/palswayam5/Library/Python/3.9/lib/python/site-packages (from urllib3[socks]<3,>=1.26->selenium~=4.12->Appium-Python-Client) (1.7.1)\n",
      "Requirement already satisfied: h11<1,>=0.9.0 in /Users/palswayam5/Library/Python/3.9/lib/python/site-packages (from wsproto>=0.14->trio-websocket~=0.9->selenium~=4.12->Appium-Python-Client) (0.14.0)\n",
      "\n",
      "\u001b[1m[\u001b[0m\u001b[34;49mnotice\u001b[0m\u001b[1;39;49m]\u001b[0m\u001b[39;49m A new release of pip is available: \u001b[0m\u001b[31;49m24.0\u001b[0m\u001b[39;49m -> \u001b[0m\u001b[32;49m24.2\u001b[0m\n",
      "\u001b[1m[\u001b[0m\u001b[34;49mnotice\u001b[0m\u001b[1;39;49m]\u001b[0m\u001b[39;49m To update, run: \u001b[0m\u001b[32;49m/Library/Developer/CommandLineTools/usr/bin/python3 -m pip install --upgrade pip\u001b[0m\n",
      "Note: you may need to restart the kernel to use updated packages.\n"
     ]
    }
   ],
   "source": [
    "pip install --upgrade Appium-Python-Client"
   ]
  },
  {
   "cell_type": "code",
   "execution_count": 2,
   "metadata": {},
   "outputs": [
    {
     "name": "stdout",
     "output_type": "stream",
     "text": [
      "Defaulting to user installation because normal site-packages is not writeable\n",
      "Collecting selenium==4.6.0\n",
      "  Downloading selenium-4.6.0-py3-none-any.whl.metadata (7.1 kB)\n",
      "Collecting urllib3~=1.26 (from urllib3[socks]~=1.26->selenium==4.6.0)\n",
      "  Downloading urllib3-1.26.20-py2.py3-none-any.whl.metadata (50 kB)\n",
      "\u001b[2K     \u001b[90m━━━━━━━━━━━━━━━━━━━━━━━━━━━━━━━━━━━━━━━━\u001b[0m \u001b[32m50.1/50.1 kB\u001b[0m \u001b[31m2.0 MB/s\u001b[0m eta \u001b[36m0:00:00\u001b[0m\n",
      "\u001b[?25hRequirement already satisfied: trio~=0.17 in /Users/palswayam5/Library/Python/3.9/lib/python/site-packages (from selenium==4.6.0) (0.26.2)\n",
      "Requirement already satisfied: trio-websocket~=0.9 in /Users/palswayam5/Library/Python/3.9/lib/python/site-packages (from selenium==4.6.0) (0.11.1)\n",
      "Requirement already satisfied: certifi>=2021.10.8 in /Users/palswayam5/Library/Python/3.9/lib/python/site-packages (from selenium==4.6.0) (2024.2.2)\n",
      "Requirement already satisfied: attrs>=23.2.0 in /Users/palswayam5/Library/Python/3.9/lib/python/site-packages (from trio~=0.17->selenium==4.6.0) (23.2.0)\n",
      "Requirement already satisfied: sortedcontainers in /Users/palswayam5/Library/Python/3.9/lib/python/site-packages (from trio~=0.17->selenium==4.6.0) (2.4.0)\n",
      "Requirement already satisfied: idna in /Users/palswayam5/Library/Python/3.9/lib/python/site-packages (from trio~=0.17->selenium==4.6.0) (3.7)\n",
      "Requirement already satisfied: outcome in /Users/palswayam5/Library/Python/3.9/lib/python/site-packages (from trio~=0.17->selenium==4.6.0) (1.3.0.post0)\n",
      "Requirement already satisfied: sniffio>=1.3.0 in /Users/palswayam5/Library/Python/3.9/lib/python/site-packages (from trio~=0.17->selenium==4.6.0) (1.3.1)\n",
      "Requirement already satisfied: exceptiongroup in /Users/palswayam5/Library/Python/3.9/lib/python/site-packages (from trio~=0.17->selenium==4.6.0) (1.2.1)\n",
      "Requirement already satisfied: wsproto>=0.14 in /Users/palswayam5/Library/Python/3.9/lib/python/site-packages (from trio-websocket~=0.9->selenium==4.6.0) (1.2.0)\n",
      "Requirement already satisfied: PySocks!=1.5.7,<2.0,>=1.5.6 in /Users/palswayam5/Library/Python/3.9/lib/python/site-packages (from urllib3[socks]~=1.26->selenium==4.6.0) (1.7.1)\n",
      "Requirement already satisfied: h11<1,>=0.9.0 in /Users/palswayam5/Library/Python/3.9/lib/python/site-packages (from wsproto>=0.14->trio-websocket~=0.9->selenium==4.6.0) (0.14.0)\n",
      "Downloading selenium-4.6.0-py3-none-any.whl (5.2 MB)\n",
      "\u001b[2K   \u001b[90m━━━━━━━━━━━━━━━━━━━━━━━━━━━━━━━━━━━━━━━━\u001b[0m \u001b[32m5.2/5.2 MB\u001b[0m \u001b[31m13.8 MB/s\u001b[0m eta \u001b[36m0:00:00\u001b[0ma \u001b[36m0:00:01\u001b[0m\n",
      "\u001b[?25hDownloading urllib3-1.26.20-py2.py3-none-any.whl (144 kB)\n",
      "\u001b[2K   \u001b[90m━━━━━━━━━━━━━━━━━━━━━━━━━━━━━━━━━━━━━━━━\u001b[0m \u001b[32m144.2/144.2 kB\u001b[0m \u001b[31m14.3 MB/s\u001b[0m eta \u001b[36m0:00:00\u001b[0m\n",
      "\u001b[?25hInstalling collected packages: urllib3, selenium\n",
      "  Attempting uninstall: urllib3\n",
      "    Found existing installation: urllib3 2.2.1\n",
      "    Uninstalling urllib3-2.2.1:\n",
      "      Successfully uninstalled urllib3-2.2.1\n",
      "  Attempting uninstall: selenium\n",
      "    Found existing installation: selenium 3.141.0\n",
      "    Uninstalling selenium-3.141.0:\n",
      "      Successfully uninstalled selenium-3.141.0\n",
      "\u001b[31mERROR: pip's dependency resolver does not currently take into account all the packages that are installed. This behaviour is the source of the following dependency conflicts.\n",
      "appium-python-client 1.3.0 requires selenium<4,>=3.14.1, but you have selenium 4.6.0 which is incompatible.\n",
      "tensorflow 2.17.0 requires protobuf!=4.21.0,!=4.21.1,!=4.21.2,!=4.21.3,!=4.21.4,!=4.21.5,<5.0.0dev,>=3.20.3, but you have protobuf 5.28.2 which is incompatible.\u001b[0m\u001b[31m\n",
      "\u001b[0mSuccessfully installed selenium-4.6.0 urllib3-1.26.20\n",
      "\n",
      "\u001b[1m[\u001b[0m\u001b[34;49mnotice\u001b[0m\u001b[1;39;49m]\u001b[0m\u001b[39;49m A new release of pip is available: \u001b[0m\u001b[31;49m24.0\u001b[0m\u001b[39;49m -> \u001b[0m\u001b[32;49m24.2\u001b[0m\n",
      "\u001b[1m[\u001b[0m\u001b[34;49mnotice\u001b[0m\u001b[1;39;49m]\u001b[0m\u001b[39;49m To update, run: \u001b[0m\u001b[32;49m/Library/Developer/CommandLineTools/usr/bin/python3 -m pip install --upgrade pip\u001b[0m\n",
      "Note: you may need to restart the kernel to use updated packages.\n"
     ]
    }
   ],
   "source": [
    "pip install selenium==4.6.0  # Example version, adjust as needed"
   ]
  },
  {
   "cell_type": "code",
   "execution_count": 15,
   "metadata": {},
   "outputs": [
    {
     "name": "stdout",
     "output_type": "stream",
     "text": [
      "Defaulting to user installation because normal site-packages is not writeable\n",
      "Requirement already satisfied: Appium-Python-Client in /Users/palswayam5/Library/Python/3.9/lib/python/site-packages (1.3.0)\n",
      "Collecting selenium<4,>=3.14.1 (from Appium-Python-Client)\n",
      "  Using cached selenium-3.141.0-py2.py3-none-any.whl.metadata (6.6 kB)\n",
      "Requirement already satisfied: urllib3 in /Users/palswayam5/Library/Python/3.9/lib/python/site-packages (from selenium<4,>=3.14.1->Appium-Python-Client) (1.26.20)\n",
      "Using cached selenium-3.141.0-py2.py3-none-any.whl (904 kB)\n",
      "Installing collected packages: selenium\n",
      "  Attempting uninstall: selenium\n",
      "    Found existing installation: selenium 4.6.0\n",
      "    Uninstalling selenium-4.6.0:\n",
      "      Successfully uninstalled selenium-4.6.0\n",
      "Successfully installed selenium-3.141.0\n",
      "\n",
      "\u001b[1m[\u001b[0m\u001b[34;49mnotice\u001b[0m\u001b[1;39;49m]\u001b[0m\u001b[39;49m A new release of pip is available: \u001b[0m\u001b[31;49m24.0\u001b[0m\u001b[39;49m -> \u001b[0m\u001b[32;49m24.2\u001b[0m\n",
      "\u001b[1m[\u001b[0m\u001b[34;49mnotice\u001b[0m\u001b[1;39;49m]\u001b[0m\u001b[39;49m To update, run: \u001b[0m\u001b[32;49m/Library/Developer/CommandLineTools/usr/bin/python3 -m pip install --upgrade pip\u001b[0m\n",
      "Note: you may need to restart the kernel to use updated packages.\n"
     ]
    }
   ],
   "source": [
    "pip install Appium-Python-Client"
   ]
  },
  {
   "cell_type": "code",
   "execution_count": 21,
   "metadata": {},
   "outputs": [
    {
     "name": "stdout",
     "output_type": "stream",
     "text": [
      "Defaulting to user installation because normal site-packages is not writeable\n",
      "Collecting uiautomator2\n",
      "  Downloading uiautomator2-3.2.5-py3-none-any.whl.metadata (48 kB)\n",
      "\u001b[2K     \u001b[90m━━━━━━━━━━━━━━━━━━━━━━━━━━━━━━━━━━━━━━━━\u001b[0m \u001b[32m48.8/48.8 kB\u001b[0m \u001b[31m2.1 MB/s\u001b[0m eta \u001b[36m0:00:00\u001b[0m\n",
      "\u001b[?25hRequirement already satisfied: Pillow in /Users/palswayam5/Library/Python/3.9/lib/python/site-packages (from uiautomator2) (10.3.0)\n",
      "Collecting adbutils<3.0.0,>=2.5.0 (from uiautomator2)\n",
      "  Downloading adbutils-2.8.0.tar.gz (185 kB)\n",
      "\u001b[2K     \u001b[90m━━━━━━━━━━━━━━━━━━━━━━━━━━━━━━━━━━━━━━━\u001b[0m \u001b[32m185.1/185.1 kB\u001b[0m \u001b[31m6.1 MB/s\u001b[0m eta \u001b[36m0:00:00\u001b[0m\n",
      "\u001b[?25h  Preparing metadata (setup.py) ... \u001b[?25ldone\n",
      "\u001b[?25hCollecting lxml (from uiautomator2)\n",
      "  Downloading lxml-5.3.0-cp39-cp39-macosx_10_9_universal2.whl.metadata (3.8 kB)\n",
      "Requirement already satisfied: requests in /Users/palswayam5/Library/Python/3.9/lib/python/site-packages (from uiautomator2) (2.31.0)\n",
      "Collecting retry<1,>=0 (from uiautomator2)\n",
      "  Downloading retry-0.9.2-py2.py3-none-any.whl.metadata (5.8 kB)\n",
      "Collecting deprecation<3.0,>=2.0.6 (from adbutils<3.0.0,>=2.5.0->uiautomator2)\n",
      "  Downloading deprecation-2.1.0-py2.py3-none-any.whl.metadata (4.6 kB)\n",
      "Collecting apkutils2<2.0,>=1.0.0 (from adbutils<3.0.0,>=2.5.0->uiautomator2)\n",
      "  Downloading apkutils2-1.0.0.tar.gz (60 kB)\n",
      "\u001b[2K     \u001b[90m━━━━━━━━━━━━━━━━━━━━━━━━━━━━━━━━━━━━━━━━\u001b[0m \u001b[32m61.0/61.0 kB\u001b[0m \u001b[31m7.2 MB/s\u001b[0m eta \u001b[36m0:00:00\u001b[0m\n",
      "\u001b[?25h  Preparing metadata (setup.py) ... \u001b[?25ldone\n",
      "\u001b[?25hRequirement already satisfied: decorator>=3.4.2 in /Users/palswayam5/Library/Python/3.9/lib/python/site-packages (from retry<1,>=0->uiautomator2) (5.1.1)\n",
      "Collecting py<2.0.0,>=1.4.26 (from retry<1,>=0->uiautomator2)\n",
      "  Downloading py-1.11.0-py2.py3-none-any.whl.metadata (2.8 kB)\n",
      "Requirement already satisfied: charset-normalizer<4,>=2 in /Users/palswayam5/Library/Python/3.9/lib/python/site-packages (from requests->uiautomator2) (3.3.2)\n",
      "Requirement already satisfied: idna<4,>=2.5 in /Users/palswayam5/Library/Python/3.9/lib/python/site-packages (from requests->uiautomator2) (3.7)\n",
      "Requirement already satisfied: urllib3<3,>=1.21.1 in /Users/palswayam5/Library/Python/3.9/lib/python/site-packages (from requests->uiautomator2) (1.26.20)\n",
      "Requirement already satisfied: certifi>=2017.4.17 in /Users/palswayam5/Library/Python/3.9/lib/python/site-packages (from requests->uiautomator2) (2024.2.2)\n",
      "Collecting pyelftools (from apkutils2<2.0,>=1.0.0->adbutils<3.0.0,>=2.5.0->uiautomator2)\n",
      "  Downloading pyelftools-0.31-py3-none-any.whl.metadata (381 bytes)\n",
      "Collecting cigam (from apkutils2<2.0,>=1.0.0->adbutils<3.0.0,>=2.5.0->uiautomator2)\n",
      "  Downloading cigam-0.0.3-py3-none-any.whl.metadata (419 bytes)\n",
      "Collecting xmltodict (from apkutils2<2.0,>=1.0.0->adbutils<3.0.0,>=2.5.0->uiautomator2)\n",
      "  Downloading xmltodict-0.14.2-py2.py3-none-any.whl.metadata (8.0 kB)\n",
      "Requirement already satisfied: packaging in /Users/palswayam5/Library/Python/3.9/lib/python/site-packages (from deprecation<3.0,>=2.0.6->adbutils<3.0.0,>=2.5.0->uiautomator2) (24.0)\n",
      "Downloading uiautomator2-3.2.5-py3-none-any.whl (5.2 MB)\n",
      "\u001b[2K   \u001b[90m━━━━━━━━━━━━━━━━━━━━━━━━━━━━━━━━━━━━━━━━\u001b[0m \u001b[32m5.2/5.2 MB\u001b[0m \u001b[31m11.8 MB/s\u001b[0m eta \u001b[36m0:00:00\u001b[0m00:01\u001b[0m00:01\u001b[0m\n",
      "\u001b[?25hDownloading retry-0.9.2-py2.py3-none-any.whl (8.0 kB)\n",
      "Downloading lxml-5.3.0-cp39-cp39-macosx_10_9_universal2.whl (8.1 MB)\n",
      "\u001b[2K   \u001b[90m━━━━━━━━━━━━━━━━━━━━━━━━━━━━━━━━━━━━━━━━\u001b[0m \u001b[32m8.1/8.1 MB\u001b[0m \u001b[31m9.8 MB/s\u001b[0m eta \u001b[36m0:00:00\u001b[0m00:01\u001b[0m:00:01\u001b[0m\n",
      "\u001b[?25hDownloading deprecation-2.1.0-py2.py3-none-any.whl (11 kB)\n",
      "Downloading py-1.11.0-py2.py3-none-any.whl (98 kB)\n",
      "\u001b[2K   \u001b[90m━━━━━━━━━━━━━━━━━━━━━━━━━━━━━━━━━━━━━━━━\u001b[0m \u001b[32m98.7/98.7 kB\u001b[0m \u001b[31m6.9 MB/s\u001b[0m eta \u001b[36m0:00:00\u001b[0m\n",
      "\u001b[?25hDownloading cigam-0.0.3-py3-none-any.whl (3.8 kB)\n",
      "Downloading pyelftools-0.31-py3-none-any.whl (180 kB)\n",
      "\u001b[2K   \u001b[90m━━━━━━━━━━━━━━━━━━━━━━━━━━━━━━━━━━━━━━━━\u001b[0m \u001b[32m180.5/180.5 kB\u001b[0m \u001b[31m8.2 MB/s\u001b[0m eta \u001b[36m0:00:00\u001b[0m\n",
      "\u001b[?25hDownloading xmltodict-0.14.2-py2.py3-none-any.whl (10.0 kB)\n",
      "Building wheels for collected packages: adbutils, apkutils2\n",
      "  Building wheel for adbutils (setup.py) ... \u001b[?25ldone\n",
      "\u001b[?25h  Created wheel for adbutils: filename=adbutils-2.8.0-py3-none-any.whl size=42471 sha256=600f5d4354c0e1b94d07172f328bf5af48f2c5ae2d48a7f657c285aa50cc1653\n",
      "  Stored in directory: /Users/palswayam5/Library/Caches/pip/wheels/83/fd/ee/9eb79df58c757560277229554c6719a2b2f3eb0fc53d5b6f2a\n",
      "  Building wheel for apkutils2 (setup.py) ... \u001b[?25ldone\n",
      "\u001b[?25h  Created wheel for apkutils2: filename=apkutils2-1.0.0-py3-none-any.whl size=69233 sha256=723bf943d84393f975585bb36f5e1ddd6aa195eb4651b0bc03f87228f1110094\n",
      "  Stored in directory: /Users/palswayam5/Library/Caches/pip/wheels/ef/62/dd/66e767f33f9e3c7deb0d0aedf731d51096e003139ef36649b2\n",
      "Successfully built adbutils apkutils2\n",
      "Installing collected packages: pyelftools, cigam, xmltodict, py, lxml, deprecation, retry, apkutils2, adbutils, uiautomator2\n",
      "Successfully installed adbutils-2.8.0 apkutils2-1.0.0 cigam-0.0.3 deprecation-2.1.0 lxml-5.3.0 py-1.11.0 pyelftools-0.31 retry-0.9.2 uiautomator2-3.2.5 xmltodict-0.14.2\n",
      "\n",
      "\u001b[1m[\u001b[0m\u001b[34;49mnotice\u001b[0m\u001b[1;39;49m]\u001b[0m\u001b[39;49m A new release of pip is available: \u001b[0m\u001b[31;49m24.0\u001b[0m\u001b[39;49m -> \u001b[0m\u001b[32;49m24.2\u001b[0m\n",
      "\u001b[1m[\u001b[0m\u001b[34;49mnotice\u001b[0m\u001b[1;39;49m]\u001b[0m\u001b[39;49m To update, run: \u001b[0m\u001b[32;49m/Library/Developer/CommandLineTools/usr/bin/python3 -m pip install --upgrade pip\u001b[0m\n",
      "Note: you may need to restart the kernel to use updated packages.\n"
     ]
    }
   ],
   "source": [
    "pip install uiautomator2"
   ]
  },
  {
   "cell_type": "code",
   "execution_count": 23,
   "metadata": {},
   "outputs": [],
   "source": [
    "import uiautomator2 as u2\n",
    "import time"
   ]
  },
  {
   "cell_type": "code",
   "execution_count": 37,
   "metadata": {},
   "outputs": [
    {
     "name": "stdout",
     "output_type": "stream",
     "text": [
      "Connected to device: {'currentPackageName': 'com.rapido.passenger', 'displayHeight': 2400, 'displayRotation': 0, 'displaySizeDpX': 411, 'displaySizeDpY': 914, 'displayWidth': 1080, 'productName': 'sdk_gphone64_arm64', 'screenOn': True, 'sdkInt': 35, 'naturalOrientation': True}\n",
      "Dragged from (688, 1339) to (545, 1094) on the map.\n",
      "Rapido app closed.\n"
     ]
    }
   ],
   "source": [
    "class RapidoMapDragTest:\n",
    "    def __init__(self):\n",
    "        # Connect to the Android device (via USB or Wi-Fi)\n",
    "        self.device = u2.connect()  # Connect via USB or replace with IP for Wi-Fi connection\n",
    "        print(\"Connected to device:\", self.device.info)\n",
    "\n",
    "        # Launch the Rapido app (replace with the actual app package if needed)\n",
    "        self.device.app_start(\"com.rapido.passenger\")\n",
    "        time.sleep(5)  # Give some time for the app to load\n",
    "\n",
    "    def drag_on_map(self, start_x, start_y, end_x, end_y, steps=20):\n",
    "        # Perform the drag operation on the map\n",
    "        self.device.drag(start_x, start_y, end_x, end_y, steps)\n",
    "        print(f\"Dragged from ({start_x}, {start_y}) to ({end_x}, {end_y}) on the map.\")\n",
    "\n",
    "    def test_drag_on_rapido_map(self):\n",
    "        # Coordinates for dragging on Rapido's map (adjust based on your app UI)\n",
    "        start_x = 688  # Example starting point on the map\n",
    "        start_y = 1339\n",
    "        end_x = 545   # Example destination point on the map\n",
    "        end_y = 1094\n",
    "\n",
    "        # Perform the drag on the map\n",
    "        self.drag_on_map(start_x, start_y, end_x, end_y, steps=2)\n",
    "\n",
    "    def close_app(self):\n",
    "        # Close the Rapido app after the test\n",
    "        self.device.app_stop(\"com.rapido.passenger\")\n",
    "        print(\"Rapido app closed.\")\n",
    "\n",
    "# Usage\n",
    "if __name__ == \"__main__\":\n",
    "    test = RapidoMapDragTest()\n",
    "    test.test_drag_on_rapido_map()\n",
    "\n",
    "    # Give some time to observe the result\n",
    "    time.sleep(3)\n",
    "\n",
    "    # Close the app\n",
    "    test.close_app()\n"
   ]
  }
 ],
 "metadata": {
  "kernelspec": {
   "display_name": "Python 3",
   "language": "python",
   "name": "python3"
  },
  "language_info": {
   "codemirror_mode": {
    "name": "ipython",
    "version": 3
   },
   "file_extension": ".py",
   "mimetype": "text/x-python",
   "name": "python",
   "nbconvert_exporter": "python",
   "pygments_lexer": "ipython3",
   "version": "3.9.6"
  }
 },
 "nbformat": 4,
 "nbformat_minor": 2
}
